{
 "cells": [
  {
   "cell_type": "code",
   "execution_count": 1,
   "metadata": {},
   "outputs": [],
   "source": [
    "import numpy as np\n",
    "from qiskit import QuantumCircuit\n",
    "from qiskit.circuit.library import EfficientSU2, Permutation\n",
    "from qiskit.quantum_info import random_clifford\n",
    "from qiskit.transpiler import PassManager, generate_preset_pass_manager\n",
    "\n",
    "from qiskit_ibm_transpiler.ai.collection import (\n",
    "    CollectCliffords,\n",
    "    CollectLinearFunctions,\n",
    "    CollectPauliNetworks,\n",
    "    CollectPermutations,\n",
    ")\n",
    "from qiskit_ibm_transpiler.ai.synthesis import (\n",
    "    AICliffordSynthesis,\n",
    "    AILinearFunctionSynthesis,\n",
    "    AIPauliNetworkSynthesis,\n",
    "    AIPermutationSynthesis,\n",
    ")"
   ]
  },
  {
   "cell_type": "code",
   "execution_count": 2,
   "metadata": {},
   "outputs": [
    {
     "name": "stdout",
     "output_type": "stream",
     "text": [
      "fake_marrakesh 156\n"
     ]
    }
   ],
   "source": [
    "from qiskit_ibm_runtime.fake_provider.backends.marrakesh import FakeMarrakesh\n",
    "\n",
    "backend = FakeMarrakesh()\n",
    "coupling_map = backend.coupling_map\n",
    "n_qubits = backend.num_qubits\n",
    "\n",
    "print(backend.name, backend.num_qubits)"
   ]
  },
  {
   "cell_type": "markdown",
   "metadata": {},
   "source": [
    "## Linear Functions Circuit"
   ]
  },
  {
   "cell_type": "code",
   "execution_count": 3,
   "metadata": {},
   "outputs": [],
   "source": [
    "iterations = 32\n",
    "commutative = True\n",
    "backwards = False"
   ]
  },
  {
   "cell_type": "code",
   "execution_count": 4,
   "metadata": {},
   "outputs": [
    {
     "name": "stdout",
     "output_type": "stream",
     "text": [
      "Original Linear Fnc circuit -> Depth: 509, Gates(2q): 1183\n"
     ]
    }
   ],
   "source": [
    "circuit = QuantumCircuit(n_qubits)\n",
    "\n",
    "for c in range(iterations):\n",
    "    nq = 8\n",
    "    qs = np.random.choice(range(circuit.num_qubits), size=nq, replace=False)\n",
    "    circuit.compose(random_clifford(nq).to_circuit(), qubits=qs.tolist(), inplace=True)\n",
    "    for q in qs:\n",
    "        circuit.t(q)\n",
    "\n",
    "print(\n",
    "    f\"Original Linear Fnc circuit -> Depth: {circuit.decompose(reps=3).depth()}, Gates(2q): {circuit.decompose(reps=3).num_nonlocal_gates()}\"\n",
    ")\n",
    "# circuit.draw(fold=-1, scale=0.3, style=\"iqp\")"
   ]
  },
  {
   "cell_type": "code",
   "execution_count": 5,
   "metadata": {},
   "outputs": [],
   "source": [
    "qiskit_lvl3_transpiler = generate_preset_pass_manager(\n",
    "    optimization_level=3, coupling_map=coupling_map\n",
    ")\n",
    "lvl3_transpiled_circuit = qiskit_lvl3_transpiler.run(circuit)"
   ]
  },
  {
   "cell_type": "code",
   "execution_count": 6,
   "metadata": {},
   "outputs": [],
   "source": [
    "import time\n",
    "\n",
    "start_time = time.time()\n",
    "ai_linear_functions_synthesis_pass = PassManager(\n",
    "    [\n",
    "        CollectLinearFunctions(\n",
    "            do_commutative_analysis=commutative,\n",
    "            collect_from_back=backwards,\n",
    "        ),\n",
    "        AILinearFunctionSynthesis(coupling_map=coupling_map),\n",
    "    ]\n",
    ")\n",
    "\n",
    "synthesized_circuit_local = ai_linear_functions_synthesis_pass.run(\n",
    "    lvl3_transpiled_circuit\n",
    ")\n",
    "end_time = time.time()\n",
    "delta = end_time - start_time"
   ]
  },
  {
   "cell_type": "code",
   "execution_count": 7,
   "metadata": {},
   "outputs": [
    {
     "name": "stdout",
     "output_type": "stream",
     "text": [
      "Time taken for local AI synthesis: 4.06 seconds\n",
      "Original Linear Fnc circuit -> Depth: 509, Gates(2q): 1183\n",
      "Synthesized Linear Fnc circuit (local AI) -> Depth: 2186, Gates(2q): 6689\n",
      ">>>>Gate Speed: 291.48 gates/second\n",
      ">>>>Complexity Speed: 148361.62 complexity/second\n"
     ]
    }
   ],
   "source": [
    "print(f\"Time taken for local AI synthesis: {delta:.2f} seconds\")\n",
    "print(\n",
    "    f\"Original Linear Fnc circuit -> Depth: {circuit.decompose(reps=3).depth()}, Gates(2q): {circuit.decompose(reps=3).num_nonlocal_gates()}\"\n",
    ")\n",
    "print(\n",
    "    f\"Synthesized Linear Fnc circuit (local AI) -> Depth: {synthesized_circuit_local.decompose(reps=3).depth()}, Gates(2q): {synthesized_circuit_local.decompose(reps=3).num_nonlocal_gates()}\"\n",
    ")\n",
    "complexity = (\n",
    "    circuit.decompose(reps=3).depth() * circuit.decompose(reps=3).num_nonlocal_gates()\n",
    ")\n",
    "speed = circuit.decompose(reps=3).num_nonlocal_gates() / delta\n",
    "speed2 = complexity / delta\n",
    "print(f\">>>>Gate Speed: {speed:.2f} gates/second\")\n",
    "print(f\">>>>Complexity Speed: {speed2:.2f} complexity/second\")\n",
    "# synthesized_circuit_local.draw(fold=-1, scale=0.3, style=\"iqp\")"
   ]
  },
  {
   "cell_type": "markdown",
   "metadata": {},
   "source": [
    "## Permutation Circuit"
   ]
  },
  {
   "cell_type": "code",
   "execution_count": 8,
   "metadata": {},
   "outputs": [
    {
     "name": "stdout",
     "output_type": "stream",
     "text": [
      "Original Permutations circuit -> Depth: 465, Gates(2q): 465\n"
     ]
    }
   ],
   "source": [
    "circuit = QuantumCircuit(n_qubits)\n",
    "circuit.append(\n",
    "    Permutation(\n",
    "        num_qubits=n_qubits, pattern=[(i + 1) % n_qubits for i in range(n_qubits)]\n",
    "    ),\n",
    "    qargs=range(n_qubits),\n",
    ")\n",
    "circuit = circuit.decompose(reps=2)\n",
    "\n",
    "print(\n",
    "    f\"Original Permutations circuit -> Depth: {circuit.decompose(reps=3).depth()}, Gates(2q): {circuit.decompose(reps=3).num_nonlocal_gates()}\"\n",
    ")\n",
    "\n",
    "# circuit.draw(fold=-1, scale=0.3, style=\"iqp\")"
   ]
  },
  {
   "cell_type": "code",
   "execution_count": 9,
   "metadata": {},
   "outputs": [],
   "source": [
    "qiskit_lvl3_transpiler = generate_preset_pass_manager(\n",
    "    optimization_level=3, coupling_map=coupling_map\n",
    ")\n",
    "lvl3_transpiled_circuit = qiskit_lvl3_transpiler.run(circuit)"
   ]
  },
  {
   "cell_type": "code",
   "execution_count": 10,
   "metadata": {},
   "outputs": [],
   "source": [
    "import time\n",
    "\n",
    "start_time = time.time()\n",
    "ai_linear_functions_synthesis_pass = PassManager(\n",
    "    [\n",
    "        CollectPermutations(\n",
    "            do_commutative_analysis=commutative,\n",
    "            collect_from_back=backwards,\n",
    "            max_block_size=n_qubits,\n",
    "        ),  ## or max_block_size=27\n",
    "        AIPermutationSynthesis(coupling_map=coupling_map),\n",
    "    ]\n",
    ")\n",
    "\n",
    "synthesized_circuit_local = ai_linear_functions_synthesis_pass.run(\n",
    "    lvl3_transpiled_circuit\n",
    ")\n",
    "end_time = time.time()\n",
    "delta = end_time - start_time"
   ]
  },
  {
   "cell_type": "code",
   "execution_count": 11,
   "metadata": {},
   "outputs": [
    {
     "name": "stdout",
     "output_type": "stream",
     "text": [
      "Time taken for Permutations with Local AI: 0.00 seconds\n",
      "Original Permutations circuit -> Depth: 465, Gates(2q): 465\n",
      "Synthesized Permutations circuit (local AI) -> Depth: 0, Gates(2q): 0\n",
      ">>>>Gate Speed: 154434.35 gates/second\n",
      ">>>>Complexity Speed: 71811971.05 complexity/second\n"
     ]
    }
   ],
   "source": [
    "print(f\"Time taken for Permutations with Local AI: {delta:.2f} seconds\")\n",
    "print(\n",
    "    f\"Original Permutations circuit -> Depth: {circuit.decompose(reps=3).depth()}, Gates(2q): {circuit.decompose(reps=3).num_nonlocal_gates()}\"\n",
    ")\n",
    "print(\n",
    "    f\"Synthesized Permutations circuit (local AI) -> Depth: {synthesized_circuit_local.decompose(reps=3).depth()}, Gates(2q): {synthesized_circuit_local.decompose(reps=3).num_nonlocal_gates()}\"\n",
    ")\n",
    "complexity = (\n",
    "    circuit.decompose(reps=3).depth() * circuit.decompose(reps=3).num_nonlocal_gates()\n",
    ")\n",
    "speed = circuit.decompose(reps=3).num_nonlocal_gates() / delta\n",
    "speed2 = complexity / delta\n",
    "print(f\">>>>Gate Speed: {speed:.2f} gates/second\")\n",
    "print(f\">>>>Complexity Speed: {speed2:.2f} complexity/second\")\n",
    "# synthesized_circuit_local.draw(fold=-1, scale=0.3, style=\"iqp\")"
   ]
  },
  {
   "cell_type": "markdown",
   "metadata": {},
   "source": [
    "## Eficient SU2"
   ]
  },
  {
   "cell_type": "code",
   "execution_count": 12,
   "metadata": {},
   "outputs": [
    {
     "name": "stdout",
     "output_type": "stream",
     "text": [
      "Original EfficientSU2 circuit -> Depth: 160, Gates(2q): 156\n"
     ]
    }
   ],
   "source": [
    "circuit = EfficientSU2(n_qubits, entanglement=\"circular\", reps=1).decompose()\n",
    "print(\n",
    "    f\"Original EfficientSU2 circuit -> Depth: {circuit.depth()}, Gates(2q): {circuit.num_nonlocal_gates()}\"\n",
    ")\n",
    "# circuit.draw(fold=-1, scale=0.2, style=\"iqp\")"
   ]
  },
  {
   "cell_type": "code",
   "execution_count": 13,
   "metadata": {},
   "outputs": [],
   "source": [
    "qiskit_lvl3_transpiler = generate_preset_pass_manager(\n",
    "    optimization_level=3, coupling_map=coupling_map\n",
    ")\n",
    "lvl3_transpiled_circuit = qiskit_lvl3_transpiler.run(circuit)"
   ]
  },
  {
   "cell_type": "code",
   "execution_count": 14,
   "metadata": {},
   "outputs": [],
   "source": [
    "import time\n",
    "\n",
    "start_time = time.time()\n",
    "ai_linear_functions_synthesis_pass = PassManager(\n",
    "    [\n",
    "        CollectLinearFunctions(\n",
    "            do_commutative_analysis=commutative,\n",
    "            collect_from_back=backwards,\n",
    "        ),\n",
    "        AILinearFunctionSynthesis(coupling_map=coupling_map),\n",
    "    ]\n",
    ")\n",
    "\n",
    "synthesized_circuit_local = ai_linear_functions_synthesis_pass.run(\n",
    "    lvl3_transpiled_circuit\n",
    ")\n",
    "end_time = time.time()\n",
    "delta = end_time - start_time"
   ]
  },
  {
   "cell_type": "code",
   "execution_count": 15,
   "metadata": {},
   "outputs": [
    {
     "name": "stdout",
     "output_type": "stream",
     "text": [
      "Time taken for EfficientSU2 with Local AI: 0.48 seconds\n",
      "Original EfficientSU2 circuit -> Depth: 160, Gates(2q): 156\n",
      "Synthesized EfficientSU2 circuit (local AI) -> Depth: 588, Gates(2q): 591\n",
      ">>>>Gate Speed: 327.02 gates/second\n",
      ">>>>Complexity Speed: 52322.83 complexity/second\n"
     ]
    }
   ],
   "source": [
    "print(f\"Time taken for EfficientSU2 with Local AI: {delta:.2f} seconds\")\n",
    "print(\n",
    "    f\"Original EfficientSU2 circuit -> Depth: {circuit.decompose(reps=3).depth()}, Gates(2q): {circuit.decompose(reps=3).num_nonlocal_gates()}\"\n",
    ")\n",
    "print(\n",
    "    f\"Synthesized EfficientSU2 circuit (local AI) -> Depth: {synthesized_circuit_local.decompose(reps=3).depth()}, Gates(2q): {synthesized_circuit_local.decompose(reps=3).num_nonlocal_gates()}\"\n",
    ")\n",
    "complexity = (\n",
    "    circuit.decompose(reps=3).depth() * circuit.decompose(reps=3).num_nonlocal_gates()\n",
    ")\n",
    "speed = circuit.decompose(reps=3).num_nonlocal_gates() / delta\n",
    "speed2 = complexity / delta\n",
    "print(f\">>>>Gate Speed: {speed:.2f} gates/second\")\n",
    "print(f\">>>>Complexity Speed: {speed2:.2f} complexity/second\")\n",
    "# synthesized_circuit_local.draw(fold=-1, scale=0.3, style=\"iqp\")"
   ]
  }
 ],
 "metadata": {
  "kernelspec": {
   "display_name": "Python 3 (ipykernel)",
   "language": "python",
   "name": "python3"
  },
  "language_info": {
   "codemirror_mode": {
    "name": "ipython",
    "version": 3
   },
   "file_extension": ".py",
   "mimetype": "text/x-python",
   "name": "python",
   "nbconvert_exporter": "python",
   "pygments_lexer": "ipython3",
   "version": "3.10.13"
  }
 },
 "nbformat": 4,
 "nbformat_minor": 2
}
