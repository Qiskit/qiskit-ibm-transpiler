{
 "cells": [
  {
   "cell_type": "code",
   "execution_count": 1,
   "metadata": {},
   "outputs": [
    {
     "name": "stderr",
     "output_type": "stream",
     "text": [
      "INFO:qiskit_ibm_transpiler.transpiler_service:Requesting transpile to the service\n",
      "INFO:qiskit_ibm_transpiler.transpiler_service:Qiskit IBM Transpiler returned a result\n"
     ]
    }
   ],
   "source": [
    "from qiskit.circuit.library import EfficientSU2\n",
    "\n",
    "from qiskit_ibm_transpiler.transpiler_service import TranspilerService\n",
    "\n",
    "circuit = EfficientSU2(101, entanglement=\"circular\", reps=1).decompose()\n",
    "\n",
    "cloud_transpiler_service = TranspilerService(\n",
    "    backend_name=\"ibm_sherbrooke\",\n",
    "    ai=\"false\",\n",
    "    optimization_level=3,\n",
    ")\n",
    "transpiled_circuit_no_ai = cloud_transpiler_service.run(circuit)"
   ]
  },
  {
   "cell_type": "code",
   "execution_count": 2,
   "metadata": {},
   "outputs": [
    {
     "name": "stderr",
     "output_type": "stream",
     "text": [
      "INFO:qiskit_ibm_transpiler.transpiler_service:Requesting transpile to the service\n",
      "INFO:qiskit_ibm_transpiler.transpiler_service:Qiskit IBM Transpiler returned a result\n"
     ]
    }
   ],
   "source": [
    "from qiskit.circuit.library import EfficientSU2\n",
    "\n",
    "from qiskit_ibm_transpiler.transpiler_service import TranspilerService\n",
    "\n",
    "circuit = EfficientSU2(101, entanglement=\"circular\", reps=1).decompose()\n",
    "\n",
    "cloud_transpiler_service = TranspilerService(\n",
    "    backend_name=\"ibm_sherbrooke\",\n",
    "    ai=\"true\",\n",
    "    optimization_level=1,\n",
    ")\n",
    "transpiled_circuit_ai = cloud_transpiler_service.run(circuit)"
   ]
  },
  {
   "cell_type": "code",
   "execution_count": 3,
   "metadata": {},
   "outputs": [
    {
     "name": "stderr",
     "output_type": "stream",
     "text": [
      "INFO:qiskit_ibm_transpiler.transpiler_service:Requesting transpile to the service\n",
      "INFO:qiskit_ibm_transpiler.transpiler_service:Qiskit IBM Transpiler returned a result\n"
     ]
    }
   ],
   "source": [
    "from qiskit.circuit.library import EfficientSU2\n",
    "\n",
    "from qiskit_ibm_transpiler.transpiler_service import TranspilerService\n",
    "\n",
    "circuit = EfficientSU2(101, entanglement=\"circular\", reps=1).decompose()\n",
    "\n",
    "cloud_transpiler_service = TranspilerService(\n",
    "    backend_name=\"ibm_sherbrooke\",\n",
    "    ai=\"auto\",\n",
    "    optimization_level=1,\n",
    ")\n",
    "transpiled_circuit_ai_auto = cloud_transpiler_service.run(circuit)"
   ]
  },
  {
   "cell_type": "code",
   "execution_count": 4,
   "metadata": {},
   "outputs": [
    {
     "name": "stderr",
     "output_type": "stream",
     "text": [
      "INFO:qiskit_ibm_transpiler.transpiler_service:Requesting transpile to the service\n",
      "INFO:qiskit_ibm_transpiler.transpiler_service:Qiskit IBM Transpiler returned a result\n"
     ]
    }
   ],
   "source": [
    "from qiskit.circuit.library import EfficientSU2\n",
    "\n",
    "from qiskit_ibm_transpiler.transpiler_service import TranspilerService\n",
    "\n",
    "circuit = EfficientSU2(101, entanglement=\"circular\", reps=1).decompose()\n",
    "\n",
    "cloud_transpiler_service = TranspilerService(\n",
    "    backend_name=\"ibm_sherbrooke\",\n",
    "    ai=\"auto\",\n",
    "    optimization_level=1,\n",
    ")\n",
    "transpiled_circuit = cloud_transpiler_service.run(circuit)"
   ]
  },
  {
   "cell_type": "code",
   "execution_count": 5,
   "metadata": {},
   "outputs": [],
   "source": [
    "from qiskit.circuit.library import EfficientSU2\n",
    "from qiskit.transpiler import PassManager\n",
    "\n",
    "from qiskit_ibm_transpiler.ai.routing import AIRouting\n",
    "\n",
    "ai_passmanager = PassManager(\n",
    "    [\n",
    "        AIRouting(\n",
    "            backend_name=\"ibm_sherbrooke\", optimization_level=2, layout_mode=\"optimize\"\n",
    "        )\n",
    "    ]\n",
    ")\n",
    "\n",
    "circuit = EfficientSU2(101, entanglement=\"circular\", reps=1).decompose()\n",
    "\n",
    "transpiled_circuit_ai_lvl2 = ai_passmanager.run(circuit)"
   ]
  },
  {
   "cell_type": "code",
   "execution_count": 7,
   "metadata": {},
   "outputs": [
    {
     "name": "stderr",
     "output_type": "stream",
     "text": [
      "INFO:qiskit_ibm_transpiler.ai.synthesis:Requesting synthesis to the service\n"
     ]
    }
   ],
   "source": [
    "from qiskit.circuit.library import EfficientSU2\n",
    "from qiskit.transpiler import PassManager\n",
    "\n",
    "from qiskit_ibm_transpiler.ai.collection import CollectLinearFunctions\n",
    "from qiskit_ibm_transpiler.ai.routing import AIRouting\n",
    "from qiskit_ibm_transpiler.ai.synthesis import AILinearFunctionSynthesis\n",
    "\n",
    "ai_passmanager = PassManager(\n",
    "    [\n",
    "        AIRouting(\n",
    "            backend_name=\"ibm_torino\", optimization_level=3, layout_mode=\"optimize\"\n",
    "        ),  # Route circuit\n",
    "        CollectLinearFunctions(),  # Collect Linear Function blocks\n",
    "        AILinearFunctionSynthesis(\n",
    "            backend_name=\"ibm_torino\"\n",
    "        ),  # Re-synthesize Linear Function blocks\n",
    "    ]\n",
    ")\n",
    "\n",
    "circuit = EfficientSU2(10, entanglement=\"full\", reps=1).decompose()\n",
    "\n",
    "transpiled_circuit_synthesis = ai_passmanager.run(circuit)"
   ]
  },
  {
   "cell_type": "code",
   "execution_count": 8,
   "metadata": {},
   "outputs": [
    {
     "name": "stdout",
     "output_type": "stream",
     "text": [
      "Depth: 9077, Gates(2q): 2732\n",
      "Depth: 1992, Gates(2q): 620\n",
      "Depth: 1981, Gates(2q): 644\n",
      "Depth: 158, Gates(2q): 155\n",
      "Depth: 67, Gates(2q): 105\n"
     ]
    }
   ],
   "source": [
    "print(\n",
    "    f\"Depth: {transpiled_circuit_no_ai.decompose(reps=3).depth()}, Gates(2q): {transpiled_circuit_no_ai.decompose(reps=3).num_nonlocal_gates()}\"\n",
    ")\n",
    "\n",
    "print(\n",
    "    f\"Depth: {transpiled_circuit_ai.decompose(reps=3).depth()}, Gates(2q): {transpiled_circuit_ai.decompose(reps=3).num_nonlocal_gates()}\"\n",
    ")\n",
    "\n",
    "print(\n",
    "    f\"Depth: {transpiled_circuit_ai_auto.decompose(reps=3).depth()}, Gates(2q): {transpiled_circuit_ai_auto.decompose(reps=3).num_nonlocal_gates()}\"\n",
    ")\n",
    "\n",
    "print(\n",
    "    f\"Depth: {transpiled_circuit_ai_lvl2.decompose(reps=3).depth()}, Gates(2q): {transpiled_circuit_ai_lvl2.decompose(reps=3).num_nonlocal_gates()}\"\n",
    ")\n",
    "\n",
    "print(\n",
    "    f\"Depth: {transpiled_circuit_synthesis.decompose(reps=3).depth()}, Gates(2q): {transpiled_circuit_synthesis.decompose(reps=3).num_nonlocal_gates()}\"\n",
    ")"
   ]
  },
  {
   "cell_type": "code",
   "execution_count": null,
   "metadata": {},
   "outputs": [],
   "source": []
  }
 ],
 "metadata": {
  "kernelspec": {
   "display_name": "env",
   "language": "python",
   "name": "python3"
  },
  "language_info": {
   "codemirror_mode": {
    "name": "ipython",
    "version": 3
   },
   "file_extension": ".py",
   "mimetype": "text/x-python",
   "name": "python",
   "nbconvert_exporter": "python",
   "pygments_lexer": "ipython3",
   "version": "3.11.3"
  }
 },
 "nbformat": 4,
 "nbformat_minor": 2
}
