{
 "cells": [
  {
   "cell_type": "raw",
   "source": [
    "# Install the plugin\n",
    "# !pip install -e ."
   ],
   "metadata": {
    "collapsed": false
   }
  },
  {
   "cell_type": "raw",
   "source": [
    "from qiskit.transpiler import PassManager\n",
    "from qiskit_ibm_transpiler.ai.routing import AIRouting\n",
    "from qiskit.circuit.library import EfficientSU2"
   ],
   "metadata": {
    "collapsed": false
   }
  },
  {
   "cell_type": "raw",
   "source": [
    "## Step 1: Create your circuit"
   ],
   "metadata": {
    "collapsed": false
   }
  },
  {
   "cell_type": "raw",
   "source": [
    "circuit = EfficientSU2(100, entanglement=\"circular\", reps=1).decompose()\n",
    "print(\n",
    "    f\"Original circuit -> Depth: {circuit.depth()}, Gates(2q): {circuit.num_nonlocal_gates()}\"\n",
    ")\n",
    "circuit.draw(output=\"mpl\", fold=-1, scale=0.2, style=\"iqp\")"
   ],
   "metadata": {
    "collapsed": false
   }
  },
  {
   "cell_type": "raw",
   "source": [
    "## Step 2: Optimize your circuit"
   ],
   "metadata": {
    "collapsed": false
   }
  },
  {
   "cell_type": "raw",
   "source": [
    "#### With Qiskit AI Transpiler"
   ],
   "metadata": {
    "collapsed": false
   }
  },
  {
   "cell_type": "raw",
   "source": [
    "qiskit_ai_transpiler = PassManager(\n",
    "    [AIRouting(backend_name=\"ibm_torino\", optimization_level=1, layout_mode=\"optimize\")]\n",
    ")"
   ],
   "metadata": {
    "collapsed": false
   }
  },
  {
   "cell_type": "raw",
   "source": [
    "ai_transpiled_circuit = qiskit_ai_transpiler.run(circuit)"
   ],
   "metadata": {
    "collapsed": false
   }
  },
  {
   "cell_type": "raw",
   "source": [
    "print(\n",
    "    f\"Qiskit AI Transpiler -> Depth: {ai_transpiled_circuit.depth()}, Gates(2q): {ai_transpiled_circuit.num_nonlocal_gates()}\"\n",
    ")\n",
    "ai_transpiled_circuit.draw(output=\"mpl\", fold=-1, scale=0.2, style=\"iqp\")"
   ],
   "metadata": {
    "collapsed": false
   }
  },
  {
   "cell_type": "raw",
   "source": [
    "#### With Qiskit lvl3 Transpiler (local)"
   ],
   "metadata": {
    "collapsed": false
   }
  },
  {
   "cell_type": "raw",
   "source": [
    "from qiskit.transpiler.preset_passmanagers import generate_preset_pass_manager\n",
    "from qiskit_ibm_runtime import QiskitRuntimeService\n",
    "\n",
    "coupling_map = QiskitRuntimeService().backend(\"ibm_torino\").coupling_map"
   ],
   "metadata": {
    "collapsed": false
   }
  },
  {
   "cell_type": "raw",
   "source": [
    "qiskit_lvl3_transpiler = generate_preset_pass_manager(\n",
    "    optimization_level=3, coupling_map=coupling_map\n",
    ")"
   ],
   "metadata": {
    "collapsed": false
   }
  },
  {
   "cell_type": "raw",
   "source": [
    "lvl3_transpiled_circuit = qiskit_lvl3_transpiler.run(circuit)"
   ],
   "metadata": {
    "collapsed": false
   }
  },
  {
   "cell_type": "raw",
   "source": [
    "print(\n",
    "    f\"Qiskit lvl3 Transpiler -> Depth: {lvl3_transpiled_circuit.depth()}, Gates(2q): {lvl3_transpiled_circuit.num_nonlocal_gates()}\"\n",
    ")\n",
    "lvl3_transpiled_circuit.draw(output=\"mpl\", fold=-1, scale=0.2, style=\"iqp\")"
   ],
   "metadata": {
    "collapsed": false
   }
  },
  {
   "cell_type": "raw",
   "source": [
    "#### With Qiskit lvl3 Transpiler (service)"
   ],
   "metadata": {
    "collapsed": false
   }
  },
  {
   "cell_type": "raw",
   "source": [
    "from qiskit_ibm_transpiler.transpiler_service import TranspilerService\n",
    "\n",
    "qiskit_lvl3_transpiler_service = TranspilerService(\n",
    "    backend_name=\"ibm_torino\",\n",
    "    ai=\"false\",\n",
    "    optimization_level=3,\n",
    ")"
   ],
   "metadata": {
    "collapsed": false
   }
  },
  {
   "cell_type": "raw",
   "source": [
    "lvl3_transpiled_circuit_v2 = qiskit_lvl3_transpiler_service.run(circuit)"
   ],
   "metadata": {
    "collapsed": false
   }
  },
  {
   "cell_type": "raw",
   "source": [
    "print(\n",
    "    f\"Qiskit lvl3 Transpiler -> Depth: {lvl3_transpiled_circuit_v2.depth()}, Gates(2q): {lvl3_transpiled_circuit_v2.num_nonlocal_gates()}\"\n",
    ")\n",
    "lvl3_transpiled_circuit_v2.draw(output=\"mpl\", fold=-1, scale=0.2, style=\"iqp\")"
   ],
   "metadata": {
    "collapsed": false
   }
  },
  {
   "cell_type": "raw",
   "source": [
    "#### With Qiskit lvl3 Transpiler (service) with AI"
   ],
   "metadata": {
    "collapsed": false
   }
  },
  {
   "cell_type": "raw",
   "source": [
    "qiskit_lvl3_ai_transpiler_service = TranspilerService(\n",
    "    backend_name=\"ibm_torino\",\n",
    "    ai=\"true\",\n",
    "    optimization_level=3,\n",
    ")"
   ],
   "metadata": {
    "collapsed": false
   }
  },
  {
   "cell_type": "raw",
   "source": [
    "lvl3_transpiled_ai_circuit_v2 = qiskit_lvl3_ai_transpiler_service.run(circuit)"
   ],
   "metadata": {
    "collapsed": false
   }
  },
  {
   "cell_type": "raw",
   "source": [
    "print(\n",
    "    f\"Qiskit lvl3 AI Transpiler -> Depth: {lvl3_transpiled_ai_circuit_v2.depth()}, Gates(2q): {lvl3_transpiled_ai_circuit_v2.num_nonlocal_gates()}\"\n",
    ")\n",
    "lvl3_transpiled_ai_circuit_v2.draw(output=\"mpl\", fold=-1, scale=0.2, style=\"iqp\")"
   ],
   "metadata": {
    "collapsed": false
   }
  },
  {
   "cell_type": "raw",
   "source": [],
   "metadata": {
    "collapsed": false
   }
  }
 ],
 "metadata": {
  "kernelspec": {
   "display_name": "env",
   "language": "python",
   "name": "python3"
  },
  "language_info": {
   "codemirror_mode": {
    "name": "ipython",
    "version": 3
   },
   "file_extension": ".py",
   "mimetype": "text/x-python",
   "name": "python",
   "nbconvert_exporter": "python",
   "pygments_lexer": "ipython3",
   "version": "3.11.3"
  }
 },
 "nbformat": 4,
 "nbformat_minor": 2
}
